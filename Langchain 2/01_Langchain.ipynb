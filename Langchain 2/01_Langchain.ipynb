{
  "cells": [
    {
      "cell_type": "code",
      "execution_count": 90,
      "id": "ff1114ec",
      "metadata": {
        "id": "ff1114ec",
        "colab": {
          "base_uri": "https://localhost:8080/"
        },
        "outputId": "eed25b90-8dff-4b9c-d289-d7378c82743b"
      },
      "outputs": [
        {
          "output_type": "stream",
          "name": "stdout",
          "text": [
            "Requirement already satisfied: langchain in /usr/local/lib/python3.10/dist-packages (0.1.19)\n",
            "Requirement already satisfied: langchain-openai in /usr/local/lib/python3.10/dist-packages (0.1.6)\n",
            "Requirement already satisfied: PyYAML>=5.3 in /usr/local/lib/python3.10/dist-packages (from langchain) (6.0.1)\n",
            "Requirement already satisfied: SQLAlchemy<3,>=1.4 in /usr/local/lib/python3.10/dist-packages (from langchain) (2.0.29)\n",
            "Requirement already satisfied: aiohttp<4.0.0,>=3.8.3 in /usr/local/lib/python3.10/dist-packages (from langchain) (3.9.5)\n",
            "Requirement already satisfied: async-timeout<5.0.0,>=4.0.0 in /usr/local/lib/python3.10/dist-packages (from langchain) (4.0.3)\n",
            "Requirement already satisfied: dataclasses-json<0.7,>=0.5.7 in /usr/local/lib/python3.10/dist-packages (from langchain) (0.6.5)\n",
            "Requirement already satisfied: langchain-community<0.1,>=0.0.38 in /usr/local/lib/python3.10/dist-packages (from langchain) (0.0.38)\n",
            "Requirement already satisfied: langchain-core<0.2.0,>=0.1.52 in /usr/local/lib/python3.10/dist-packages (from langchain) (0.1.52)\n",
            "Requirement already satisfied: langchain-text-splitters<0.1,>=0.0.1 in /usr/local/lib/python3.10/dist-packages (from langchain) (0.0.1)\n",
            "Requirement already satisfied: langsmith<0.2.0,>=0.1.17 in /usr/local/lib/python3.10/dist-packages (from langchain) (0.1.56)\n",
            "Requirement already satisfied: numpy<2,>=1 in /usr/local/lib/python3.10/dist-packages (from langchain) (1.25.2)\n",
            "Requirement already satisfied: pydantic<3,>=1 in /usr/local/lib/python3.10/dist-packages (from langchain) (2.7.1)\n",
            "Requirement already satisfied: requests<3,>=2 in /usr/local/lib/python3.10/dist-packages (from langchain) (2.31.0)\n",
            "Requirement already satisfied: tenacity<9.0.0,>=8.1.0 in /usr/local/lib/python3.10/dist-packages (from langchain) (8.2.3)\n",
            "Requirement already satisfied: openai<2.0.0,>=1.24.0 in /usr/local/lib/python3.10/dist-packages (from langchain-openai) (1.27.0)\n",
            "Requirement already satisfied: tiktoken<1,>=0.5.2 in /usr/local/lib/python3.10/dist-packages (from langchain-openai) (0.6.0)\n",
            "Requirement already satisfied: aiosignal>=1.1.2 in /usr/local/lib/python3.10/dist-packages (from aiohttp<4.0.0,>=3.8.3->langchain) (1.3.1)\n",
            "Requirement already satisfied: attrs>=17.3.0 in /usr/local/lib/python3.10/dist-packages (from aiohttp<4.0.0,>=3.8.3->langchain) (23.2.0)\n",
            "Requirement already satisfied: frozenlist>=1.1.1 in /usr/local/lib/python3.10/dist-packages (from aiohttp<4.0.0,>=3.8.3->langchain) (1.4.1)\n",
            "Requirement already satisfied: multidict<7.0,>=4.5 in /usr/local/lib/python3.10/dist-packages (from aiohttp<4.0.0,>=3.8.3->langchain) (6.0.5)\n",
            "Requirement already satisfied: yarl<2.0,>=1.0 in /usr/local/lib/python3.10/dist-packages (from aiohttp<4.0.0,>=3.8.3->langchain) (1.9.4)\n",
            "Requirement already satisfied: marshmallow<4.0.0,>=3.18.0 in /usr/local/lib/python3.10/dist-packages (from dataclasses-json<0.7,>=0.5.7->langchain) (3.21.2)\n",
            "Requirement already satisfied: typing-inspect<1,>=0.4.0 in /usr/local/lib/python3.10/dist-packages (from dataclasses-json<0.7,>=0.5.7->langchain) (0.9.0)\n",
            "Requirement already satisfied: jsonpatch<2.0,>=1.33 in /usr/local/lib/python3.10/dist-packages (from langchain-core<0.2.0,>=0.1.52->langchain) (1.33)\n",
            "Requirement already satisfied: packaging<24.0,>=23.2 in /usr/local/lib/python3.10/dist-packages (from langchain-core<0.2.0,>=0.1.52->langchain) (23.2)\n",
            "Requirement already satisfied: orjson<4.0.0,>=3.9.14 in /usr/local/lib/python3.10/dist-packages (from langsmith<0.2.0,>=0.1.17->langchain) (3.10.3)\n",
            "Requirement already satisfied: anyio<5,>=3.5.0 in /usr/local/lib/python3.10/dist-packages (from openai<2.0.0,>=1.24.0->langchain-openai) (3.7.1)\n",
            "Requirement already satisfied: distro<2,>=1.7.0 in /usr/lib/python3/dist-packages (from openai<2.0.0,>=1.24.0->langchain-openai) (1.7.0)\n",
            "Requirement already satisfied: httpx<1,>=0.23.0 in /usr/local/lib/python3.10/dist-packages (from openai<2.0.0,>=1.24.0->langchain-openai) (0.27.0)\n",
            "Requirement already satisfied: sniffio in /usr/local/lib/python3.10/dist-packages (from openai<2.0.0,>=1.24.0->langchain-openai) (1.3.1)\n",
            "Requirement already satisfied: tqdm>4 in /usr/local/lib/python3.10/dist-packages (from openai<2.0.0,>=1.24.0->langchain-openai) (4.66.4)\n",
            "Requirement already satisfied: typing-extensions<5,>=4.7 in /usr/local/lib/python3.10/dist-packages (from openai<2.0.0,>=1.24.0->langchain-openai) (4.11.0)\n",
            "Requirement already satisfied: annotated-types>=0.4.0 in /usr/local/lib/python3.10/dist-packages (from pydantic<3,>=1->langchain) (0.6.0)\n",
            "Requirement already satisfied: pydantic-core==2.18.2 in /usr/local/lib/python3.10/dist-packages (from pydantic<3,>=1->langchain) (2.18.2)\n",
            "Requirement already satisfied: charset-normalizer<4,>=2 in /usr/local/lib/python3.10/dist-packages (from requests<3,>=2->langchain) (3.3.2)\n",
            "Requirement already satisfied: idna<4,>=2.5 in /usr/local/lib/python3.10/dist-packages (from requests<3,>=2->langchain) (3.7)\n",
            "Requirement already satisfied: urllib3<3,>=1.21.1 in /usr/local/lib/python3.10/dist-packages (from requests<3,>=2->langchain) (2.0.7)\n",
            "Requirement already satisfied: certifi>=2017.4.17 in /usr/local/lib/python3.10/dist-packages (from requests<3,>=2->langchain) (2024.2.2)\n",
            "Requirement already satisfied: greenlet!=0.4.17 in /usr/local/lib/python3.10/dist-packages (from SQLAlchemy<3,>=1.4->langchain) (3.0.3)\n",
            "Requirement already satisfied: regex>=2022.1.18 in /usr/local/lib/python3.10/dist-packages (from tiktoken<1,>=0.5.2->langchain-openai) (2023.12.25)\n",
            "Requirement already satisfied: exceptiongroup in /usr/local/lib/python3.10/dist-packages (from anyio<5,>=3.5.0->openai<2.0.0,>=1.24.0->langchain-openai) (1.2.1)\n",
            "Requirement already satisfied: httpcore==1.* in /usr/local/lib/python3.10/dist-packages (from httpx<1,>=0.23.0->openai<2.0.0,>=1.24.0->langchain-openai) (1.0.5)\n",
            "Requirement already satisfied: h11<0.15,>=0.13 in /usr/local/lib/python3.10/dist-packages (from httpcore==1.*->httpx<1,>=0.23.0->openai<2.0.0,>=1.24.0->langchain-openai) (0.14.0)\n",
            "Requirement already satisfied: jsonpointer>=1.9 in /usr/local/lib/python3.10/dist-packages (from jsonpatch<2.0,>=1.33->langchain-core<0.2.0,>=0.1.52->langchain) (2.4)\n",
            "Requirement already satisfied: mypy-extensions>=0.3.0 in /usr/local/lib/python3.10/dist-packages (from typing-inspect<1,>=0.4.0->dataclasses-json<0.7,>=0.5.7->langchain) (1.0.0)\n"
          ]
        }
      ],
      "source": [
        "# Si no tenemos el módulo instalado\n",
        "# !pip install google-cloud-secret-manager\n",
        "!pip install langchain langchain-openai"
      ]
    },
    {
      "cell_type": "markdown",
      "id": "7c26cd69",
      "metadata": {
        "id": "7c26cd69"
      },
      "source": [
        "### LangChain: Modelos, Prompts and Parsers de salida\n"
      ]
    },
    {
      "cell_type": "code",
      "execution_count": 91,
      "id": "40d20e42",
      "metadata": {
        "id": "40d20e42"
      },
      "outputs": [],
      "source": [
        "# Primero autenticamos el usuario :\n",
        "import sys\n",
        "from google.colab import userdata\n",
        "openai_token = userdata.get('OPENAI_TOKEN')\n"
      ]
    },
    {
      "cell_type": "code",
      "execution_count": 92,
      "id": "74819297",
      "metadata": {
        "id": "74819297"
      },
      "outputs": [],
      "source": [
        "from langchain_openai import ChatOpenAI\n",
        "from langchain_core.output_parsers import StrOutputParser\n",
        "\n",
        "engine = \"gpt-4\"\n",
        "\n",
        "model = ChatOpenAI(temperature=0.7, model=engine,openai_api_key=openai_token)\n"
      ]
    },
    {
      "cell_type": "markdown",
      "id": "f44627a5",
      "metadata": {
        "id": "f44627a5"
      },
      "source": [
        "## Plantilla de Prompt"
      ]
    },
    {
      "cell_type": "code",
      "execution_count": 93,
      "id": "f2d4e320",
      "metadata": {
        "id": "f2d4e320"
      },
      "outputs": [],
      "source": [
        "estilo_formal = \"\"\"Español Castellano \\\n",
        "correcto, educado y conciliador\n",
        "\"\"\""
      ]
    },
    {
      "cell_type": "code",
      "execution_count": 94,
      "id": "56854229",
      "metadata": {
        "id": "56854229"
      },
      "outputs": [],
      "source": [
        "plantilla = \"\"\"Transforma el texto \\\n",
        "delimitado por acento grave triple \\\n",
        "en un texto con el estilo {estilo}. \\\n",
        "text: ```{texto}```\n",
        "\"\"\""
      ]
    },
    {
      "cell_type": "code",
      "execution_count": 95,
      "id": "2449a03a",
      "metadata": {
        "id": "2449a03a",
        "colab": {
          "base_uri": "https://localhost:8080/"
        },
        "outputId": "a193b3c2-5253-41ba-bb76-97930f1f5e41"
      },
      "outputs": [
        {
          "output_type": "stream",
          "name": "stdout",
          "text": [
            "input_variables=['estilo', 'texto'] template='Transforma el texto delimitado por acento grave triple en un texto con el estilo {estilo}. text: ```{texto}```\\n'\n",
            "['estilo', 'texto']\n"
          ]
        }
      ],
      "source": [
        "from langchain.prompts import ChatPromptTemplate\n",
        "\n",
        "prompt_template = ChatPromptTemplate.from_template(plantilla)\n",
        "print(prompt_template.messages[0].prompt)\n",
        "print(prompt_template.messages[0].prompt.input_variables)"
      ]
    },
    {
      "cell_type": "code",
      "execution_count": 96,
      "id": "55a05428",
      "metadata": {
        "id": "55a05428"
      },
      "outputs": [],
      "source": [
        "texto_original = \"\"\"\n",
        "Bueno, la verdad es que paso bastante de los resultados.\n",
        "Me importa un bledo lo que piensen en dirección. La próxima vez que me contacten\n",
        "para hablar de esto, les voy a mandar al carajo!\n",
        "\"\"\""
      ]
    },
    {
      "cell_type": "code",
      "execution_count": 97,
      "id": "07f43898",
      "metadata": {
        "id": "07f43898"
      },
      "outputs": [],
      "source": [
        "messages = {\n",
        "    \"estilo\": estilo_formal,\n",
        "    \"texto\": texto_original\n",
        "}\n"
      ]
    },
    {
      "cell_type": "code",
      "execution_count": 98,
      "id": "1ddbba0d",
      "metadata": {
        "id": "1ddbba0d",
        "colab": {
          "base_uri": "https://localhost:8080/",
          "height": 53
        },
        "outputId": "0d29a223-ebbd-4dd7-c203-73a8b0accc1d"
      },
      "outputs": [
        {
          "output_type": "execute_result",
          "data": {
            "text/plain": [
              "'En realidad, no suelo prestar demasiada atención a los resultados. La opinión de la dirección no es algo que me afecte en particular. La próxima vez que me contacten para tratar este tema, les expresaré amablemente mi desinterés en continuar con la conversación.'"
            ],
            "application/vnd.google.colaboratory.intrinsic+json": {
              "type": "string"
            }
          },
          "metadata": {},
          "execution_count": 98
        }
      ],
      "source": [
        "###Llamamos al LLM para transformar el mensaje según la plantilla\n",
        "chain = prompt_template | model | StrOutputParser()\n",
        "response = chain.invoke(messages)\n",
        "response"
      ]
    },
    {
      "cell_type": "markdown",
      "id": "a4c8c5f0",
      "metadata": {
        "id": "a4c8c5f0"
      },
      "source": [
        "### Procesador de salida (output parsers)\n",
        "Ayudan a transformar la salida cruda del modelo en algo más utilizable o en un formato específico que sea más fácil de manejar en la aplicación donde se utiliza el modelo."
      ]
    },
    {
      "cell_type": "code",
      "execution_count": 99,
      "id": "851f3df6",
      "metadata": {
        "id": "851f3df6",
        "colab": {
          "base_uri": "https://localhost:8080/"
        },
        "outputId": "e4ecc41c-2a89-4040-e1f5-4b36caa33772"
      },
      "outputs": [
        {
          "output_type": "execute_result",
          "data": {
            "text/plain": [
              "{'difícil': False,\n",
              " 'material': 'Muy bueno!',\n",
              " 'calidad_precio': 'buena relación calidad-precio'}"
            ]
          },
          "metadata": {},
          "execution_count": 99
        }
      ],
      "source": [
        "{\n",
        "  \"difícil\": False,\n",
        "  \"material\": \"Muy bueno!\",\n",
        "  \"calidad_precio\": \"buena relación calidad-precio\"\n",
        "}"
      ]
    },
    {
      "cell_type": "code",
      "execution_count": 100,
      "id": "538ea5cf",
      "metadata": {
        "id": "538ea5cf"
      },
      "outputs": [],
      "source": [
        "valoracion = \"\"\"\\\n",
        "Me ha gustado mucho el curso. El material ha sido extenso e interesante.\n",
        "A pesar de ello, era la primera vez que estudiaba estos conceptos\n",
        "y me costó un poco asimilarlos.\n",
        "Estoy muy contento con haber hecho esta inversión de dinero en mi conocimiento.\n",
        "Lo recomendaré a otros colegas de trabajo!\n",
        "\"\"\"\n",
        "\n",
        "plantilla = \"\"\"\\\n",
        "Del siguiente texto, extrae la siguiente información:\n",
        "\n",
        "dificultad: El curso le resulto fácil o difícil\n",
        "Contesta True si fue difícil, False si no lo fue o no se indica.\n",
        "\n",
        "material: El material cumplió con sus expectativas?\n",
        "Valoralo el sentimiento sobre el material del 1 al 5.\n",
        "Si no se menciona nada sobre el material devuelve -1.\n",
        "\n",
        "calidad_precio: Extrae cualquier referencia a la calidad o precio,\\\n",
        "y relacionalos ofreciendo el sentimiento.\n",
        "\n",
        "Formatea la salida como JSON con las siguientes claves:\n",
        "dificultad\n",
        "material\n",
        "calidad_precio\n",
        "\n",
        "text: {text}\n",
        "\"\"\""
      ]
    },
    {
      "cell_type": "code",
      "execution_count": 101,
      "id": "ef884bd4",
      "metadata": {
        "id": "ef884bd4",
        "colab": {
          "base_uri": "https://localhost:8080/"
        },
        "outputId": "7e49c0ee-268d-4572-944e-fa7708f3209f"
      },
      "outputs": [
        {
          "output_type": "execute_result",
          "data": {
            "text/plain": [
              "ChatPromptTemplate(input_variables=['text'], messages=[HumanMessagePromptTemplate(prompt=PromptTemplate(input_variables=['text'], template='Del siguiente texto, extrae la siguiente información:\\n\\ndificultad: El curso le resulto fácil o difícil\\nContesta True si fue difícil, False si no lo fue o no se indica.\\n\\nmaterial: El material cumplió con sus expectativas?\\nValoralo el sentimiento sobre el material del 1 al 5.\\nSi no se menciona nada sobre el material devuelve -1.\\n\\ncalidad_precio: Extrae cualquier referencia a la calidad o precio,y relacionalos ofreciendo el sentimiento.\\n\\nFormatea la salida como JSON con las siguientes claves:\\ndificultad\\nmaterial\\ncalidad_precio\\n\\ntext: {text}\\n'))])"
            ]
          },
          "metadata": {},
          "execution_count": 101
        }
      ],
      "source": [
        "from langchain.prompts import ChatPromptTemplate\n",
        "\n",
        "prompt_plantilla = ChatPromptTemplate.from_template(plantilla)\n",
        "prompt_plantilla"
      ]
    },
    {
      "cell_type": "code",
      "execution_count": 102,
      "id": "7da2a03c",
      "metadata": {
        "id": "7da2a03c",
        "colab": {
          "base_uri": "https://localhost:8080/"
        },
        "outputId": "549871d9-fad0-499b-bdfa-98c3d21126f0"
      },
      "outputs": [
        {
          "output_type": "stream",
          "name": "stdout",
          "text": [
            "{\n",
            "\"dificultad\": true,\n",
            "\"material\": 4,\n",
            "\"calidad_precio\": \"Estoy muy contento con haber hecho esta inversión de dinero en mi conocimiento. Lo recomendaré a otros colegas de trabajo!\"\n",
            "}\n"
          ]
        }
      ],
      "source": [
        "messages = { 'text': valoracion }\n",
        "\n",
        "chain = prompt_plantilla | model | StrOutputParser()\n",
        "\n",
        "response = chain.invoke(messages)\n",
        "print(response)"
      ]
    },
    {
      "cell_type": "code",
      "execution_count": 103,
      "id": "efc38b86",
      "metadata": {
        "id": "efc38b86"
      },
      "outputs": [],
      "source": [
        "from langchain.output_parsers import ResponseSchema\n",
        "from langchain.output_parsers import StructuredOutputParser"
      ]
    },
    {
      "cell_type": "code",
      "execution_count": 104,
      "id": "66c4d3b9",
      "metadata": {
        "id": "66c4d3b9"
      },
      "outputs": [],
      "source": [
        "dificultad_schema = ResponseSchema(name=\"dificultad\", description=\"¿El curso le resulto fácil o difícil? Contesta True si fue difícil, False si no lo fue o no se indica.\")\n",
        "material_schema = ResponseSchema(name=\"material\", description=\"El material cumplió con sus expectativas? Valoralo el sentimiento sobre el material del 1 al 5. Si no se menciona nada sobre el material devuelve -1.\")\n",
        "calidad_precio_schema = ResponseSchema(name=\"calidad_precio\", description=\"Extrae cualquier referencia a la calidad o el precio y relaciónalos ofreciendo el sentimiento.\")\n",
        "\n",
        "response_schemas = [dificultad_schema,\n",
        "                    material_schema,\n",
        "                    calidad_precio_schema]"
      ]
    },
    {
      "cell_type": "code",
      "execution_count": 105,
      "id": "d9f8be9b",
      "metadata": {
        "id": "d9f8be9b"
      },
      "outputs": [],
      "source": [
        "procesador_salida = StructuredOutputParser.from_response_schemas(response_schemas)"
      ]
    },
    {
      "cell_type": "code",
      "execution_count": 106,
      "id": "a755baa7",
      "metadata": {
        "id": "a755baa7"
      },
      "outputs": [],
      "source": [
        "format_instructions = procesador_salida.get_format_instructions()"
      ]
    },
    {
      "cell_type": "code",
      "execution_count": 107,
      "id": "1432afc8",
      "metadata": {
        "id": "1432afc8"
      },
      "outputs": [],
      "source": [
        "plantilla2 = \"\"\"\\\n",
        "Del siguiente texto, extrae la siguiente información:\n",
        "\n",
        "dificultad: El curso le resulto fácil o difícil. Contesta True si fue difícil, False si no lo fue o no se indica.\n",
        "\n",
        "material: El material cumplió con sus expectativas? Valoralo el sentimiento sobre el material del 1 al 5. Si no se menciona nada sobre el material devuelve -1.\n",
        "\n",
        "calidad_precio: Extrae cualquier referencia a la calidad o precio y relacionalos ofreciendo el sentimiento.\n",
        "\n",
        "Formatea la salida como JSON con las siguientes claves:\n",
        "dificultad\n",
        "material\n",
        "calidad_precio\n",
        "\n",
        "text: {text}\n",
        "\n",
        "{format_instructions}\n",
        "\"\"\"\n",
        "\n",
        "prompt = ChatPromptTemplate.from_template(template=plantilla2)\n",
        "\n",
        "messages = prompt.format_messages(text=valoracion, format_instructions=format_instructions)"
      ]
    },
    {
      "cell_type": "code",
      "execution_count": 108,
      "id": "0676a3ca",
      "metadata": {
        "id": "0676a3ca",
        "colab": {
          "base_uri": "https://localhost:8080/"
        },
        "outputId": "a57730f4-7486-4615-d62c-87a6d47f6b3a"
      },
      "outputs": [
        {
          "output_type": "stream",
          "name": "stdout",
          "text": [
            "Del siguiente texto, extrae la siguiente información:\n",
            "\n",
            "dificultad: El curso le resulto fácil o difícil. Contesta True si fue difícil, False si no lo fue o no se indica.\n",
            "\n",
            "material: El material cumplió con sus expectativas? Valoralo el sentimiento sobre el material del 1 al 5. Si no se menciona nada sobre el material devuelve -1.\n",
            "\n",
            "calidad_precio: Extrae cualquier referencia a la calidad o precio y relacionalos ofreciendo el sentimiento.\n",
            "\n",
            "Formatea la salida como JSON con las siguientes claves:\n",
            "dificultad\n",
            "material\n",
            "calidad_precio\n",
            "\n",
            "text: Me ha gustado mucho el curso. El material ha sido extenso e interesante.\n",
            "A pesar de ello, era la primera vez que estudiaba estos conceptos\n",
            "y me costó un poco asimilarlos.\n",
            "Estoy muy contento con haber hecho esta inversión de dinero en mi conocimiento.\n",
            "Lo recomendaré a otros colegas de trabajo!\n",
            "\n",
            "\n",
            "The output should be a markdown code snippet formatted in the following schema, including the leading and trailing \"```json\" and \"```\":\n",
            "\n",
            "```json\n",
            "{\n",
            "\t\"dificultad\": string  // ¿El curso le resulto fácil o difícil? Contesta True si fue difícil, False si no lo fue o no se indica.\n",
            "\t\"material\": string  // El material cumplió con sus expectativas? Valoralo el sentimiento sobre el material del 1 al 5. Si no se menciona nada sobre el material devuelve -1.\n",
            "\t\"calidad_precio\": string  // Extrae cualquier referencia a la calidad o el precio y relaciónalos ofreciendo el sentimiento.\n",
            "}\n",
            "```\n",
            "\n"
          ]
        }
      ],
      "source": [
        "print(messages[0].content)"
      ]
    },
    {
      "cell_type": "code",
      "execution_count": 109,
      "id": "6e1815cd",
      "metadata": {
        "id": "6e1815cd"
      },
      "outputs": [],
      "source": [
        "response = chain.invoke(messages)"
      ]
    },
    {
      "cell_type": "code",
      "execution_count": 110,
      "id": "58e318a7",
      "metadata": {
        "scrolled": true,
        "id": "58e318a7",
        "colab": {
          "base_uri": "https://localhost:8080/"
        },
        "outputId": "3f785f00-d634-45d9-c568-2068575cbfc8"
      },
      "outputs": [
        {
          "output_type": "stream",
          "name": "stdout",
          "text": [
            "```json\n",
            "{\n",
            "\t\"dificultad\": true,\n",
            "\t\"material\": 4,\n",
            "\t\"calidad_precio\": \"positivo\"\n",
            "}\n",
            "```\n"
          ]
        }
      ],
      "source": [
        "print(response)"
      ]
    },
    {
      "cell_type": "code",
      "execution_count": 111,
      "id": "6b055ae3",
      "metadata": {
        "id": "6b055ae3"
      },
      "outputs": [],
      "source": [
        "output_dict = procesador_salida.parse(response)"
      ]
    },
    {
      "cell_type": "code",
      "execution_count": 112,
      "id": "a19e8f6a",
      "metadata": {
        "id": "a19e8f6a",
        "colab": {
          "base_uri": "https://localhost:8080/"
        },
        "outputId": "6a864e05-ef18-4848-d3f8-5606cd20172a"
      },
      "outputs": [
        {
          "output_type": "execute_result",
          "data": {
            "text/plain": [
              "{'dificultad': True, 'material': 4, 'calidad_precio': 'positivo'}"
            ]
          },
          "metadata": {},
          "execution_count": 112
        }
      ],
      "source": [
        "output_dict"
      ]
    }
  ],
  "metadata": {
    "kernelspec": {
      "display_name": "Python 3 (ipykernel)",
      "language": "python",
      "name": "python3"
    },
    "language_info": {
      "codemirror_mode": {
        "name": "ipython",
        "version": 3
      },
      "file_extension": ".py",
      "mimetype": "text/x-python",
      "name": "python",
      "nbconvert_exporter": "python",
      "pygments_lexer": "ipython3",
      "version": "3.11.5"
    },
    "colab": {
      "provenance": []
    }
  },
  "nbformat": 4,
  "nbformat_minor": 5
}