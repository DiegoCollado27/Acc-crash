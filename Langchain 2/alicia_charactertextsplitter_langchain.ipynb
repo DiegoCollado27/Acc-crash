{
  "nbformat": 4,
  "nbformat_minor": 0,
  "metadata": {
    "colab": {
      "private_outputs": true,
      "provenance": []
    },
    "kernelspec": {
      "name": "python3",
      "display_name": "Python 3"
    },
    "language_info": {
      "name": "python"
    }
  },
  "cells": [
    {
      "cell_type": "code",
      "execution_count": null,
      "metadata": {
        "id": "rMLLyk4F9CZP"
      },
      "outputs": [],
      "source": [
        "!pip install langchain langchain-text-splitters chardet\n",
        "import chardet\n",
        "from langchain_text_splitters import CharacterTextSplitter, RecursiveCharacterTextSplitter\n"
      ]
    },
    {
      "cell_type": "code",
      "source": [
        "# primero miramos el encoding usando chardet abriendo en binario rb\n",
        "with open(\"alicia_en_el_pais_de_las_maravillas.txt\",'rb') as f:\n",
        "    encoding = chardet.detect(f.read())['encoding']\n",
        "\n",
        "print(encoding)"
      ],
      "metadata": {
        "id": "BfXY0BDy_Pm0"
      },
      "execution_count": null,
      "outputs": []
    },
    {
      "cell_type": "code",
      "source": [
        "# después usamos el encoding detectado para leer el archivo\n",
        "with open(\"alicia_en_el_pais_de_las_maravillas.txt\", encoding=encoding) as f:\n",
        "    alicia = f.read()"
      ],
      "metadata": {
        "id": "mNcGf4OI_U-R"
      },
      "execution_count": null,
      "outputs": []
    },
    {
      "cell_type": "code",
      "source": [
        "print(alicia[:1000])"
      ],
      "metadata": {
        "id": "WX3zjPFZ_0OK"
      },
      "execution_count": null,
      "outputs": []
    },
    {
      "cell_type": "code",
      "source": [
        "\n",
        "\n",
        "text_splitter = CharacterTextSplitter(\n",
        "    separator=\"\",\n",
        "    chunk_size=10,\n",
        "    chunk_overlap=2,\n",
        "    length_function=len,\n",
        "    is_separator_regex=False,\n",
        "    keep_separator=False,\n",
        "    strip_whitespace=True\n",
        ")"
      ],
      "metadata": {
        "id": "HPKEuRP2__ih"
      },
      "execution_count": null,
      "outputs": []
    },
    {
      "cell_type": "code",
      "source": [
        "texts = text_splitter.create_documents([alicia])\n",
        "for text in texts[:10]:\n",
        "    #print(type(text))\n",
        "    print(text)"
      ],
      "metadata": {
        "id": "vgvN0K_lAI7_"
      },
      "execution_count": null,
      "outputs": []
    },
    {
      "cell_type": "code",
      "source": [
        "text_splitter = RecursiveCharacterTextSplitter(\n",
        "    separators=[\"\\n\\n\"],\n",
        "    chunk_size=10,\n",
        "    chunk_overlap=2,\n",
        "    length_function=len,\n",
        "    is_separator_regex=False,\n",
        "    keep_separator=False,\n",
        "    strip_whitespace=True\n",
        ")\n",
        "texts = text_splitter.create_documents([alicia])\n",
        "for text in texts[:10]:\n",
        "    #print(type(text))\n",
        "    print(text)"
      ],
      "metadata": {
        "id": "hB0YwlbUY9Vw"
      },
      "execution_count": null,
      "outputs": []
    }
  ]
}