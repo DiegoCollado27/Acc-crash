{
  "cells": [
    {
      "cell_type": "code",
      "execution_count": null,
      "id": "b62b0d41",
      "metadata": {
        "id": "b62b0d41"
      },
      "outputs": [],
      "source": [
        "\n",
        "# Si no tenemos el módulo instalado\n",
        "\n",
        "!pip install langchain_openai\n",
        "!pip install langchain\n",
        "!pip install tiktoken"
      ]
    },
    {
      "cell_type": "markdown",
      "source": [
        "# Pandas\n",
        "Pandas es una librería Python que nos facilita mucho la ingestión de datos\n"
      ],
      "metadata": {
        "id": "pgMivHpYe2I_"
      },
      "id": "pgMivHpYe2I_"
    },
    {
      "cell_type": "markdown",
      "source": [
        "# LancgChain Expression Language\n",
        "\n",
        "LangChain Expression Language (LCEL) es una manera declarativa de componer cadenas fácilmente. Ofrece varias ventajas:\n",
        "\n",
        "1.   Soporte para sincronización, operaciones en lote y transmisión, facilitando la prototipación y luego la exposición como una interfaz de transmisión asíncrona.\n",
        "2.   Posibilidad de adjuntar alternativas fácilmente para manejar errores de manera elegante.\n",
        "3.   Ejecución automática en paralelo de componentes que lo permitan.\n",
        "4.   Integración sin interrupciones con LangSmith Tracing para máxima observabilidad y depuración durante la ejecución de cadenas complejas\n",
        "\n",
        "\n",
        "\n",
        "\n"
      ],
      "metadata": {
        "id": "okzzrK8DYvit"
      },
      "id": "okzzrK8DYvit"
    },
    {
      "cell_type": "code",
      "source": [
        "from langchain_openai import ChatOpenAI\n",
        "from langchain.schema import StrOutputParser\n",
        "from langchain.prompts import PromptTemplate\n",
        "from google.colab import userdata\n",
        "\n",
        "\n",
        "secret_string = userdata.get('OPENAI_TOKEN')\n",
        "# Configurar el motor de OpenAI\n",
        "engine = \"gpt-4\"\n",
        "\n",
        "\n",
        "llm = ChatOpenAI(temperature=0.7, model=engine, openai_api_key=secret_string)\n",
        "\n",
        "synopsis_prompt = PromptTemplate.from_template(\n",
        "    \"\"\"You are a playwright. Given the title of play, it is your job to write a synopsis for that title.\n",
        "\n",
        "Title: {title}\n",
        "Playwright: This is a synopsis for the above play:\"\"\"\n",
        ")\n",
        "\n",
        "review_prompt = PromptTemplate.from_template(\n",
        "    \"\"\"You are a play critic from the New York Times. Given the synopsis of play, it is your job to write a review for that play. Provide a title for the review\n",
        "\n",
        "Play Synopsis:\n",
        "{synopsis}\n",
        "Review from a New York Times play critic of the above play:\"\"\"\n",
        ")\n",
        "\n",
        "llm = ChatOpenAI(openai_api_key=secret_string)\n",
        "chain = (\n",
        "    {\"synopsis\": synopsis_prompt | llm | StrOutputParser()}\n",
        "    | review_prompt\n",
        "    | llm\n",
        "    | StrOutputParser()\n",
        ")\n",
        "chain.invoke({\"title\": \"Tragedy at sunset on the beach\"})"
      ],
      "metadata": {
        "colab": {
          "base_uri": "https://localhost:8080/",
          "height": 159
        },
        "id": "CXdAoSuAZNDI",
        "outputId": "7c5357c7-b5cb-4914-bd38-55589a86d14e"
      },
      "id": "CXdAoSuAZNDI",
      "execution_count": 2,
      "outputs": [
        {
          "output_type": "execute_result",
          "data": {
            "text/plain": [
              "'Title: \"Tragedy Unfolds at Sunset on the Beach\"\\n\\nIn \"Tragedy at Sunset on the Beach,\" playwright Sarah Johnson delivers a gripping and emotional drama that explores the complexities of human relationships and the consequences of our actions. Set against the picturesque backdrop of a beach at sunset, the play follows a group of friends as they come together for a weekend getaway that quickly turns into a harrowing tale of betrayal, love, and loss.\\n\\nThe ensemble cast delivers powerful performances, bringing depth and authenticity to their characters as they navigate the tangled web of secrets and tensions that unravel throughout the play. Each actor skillfully portrays the emotional turmoil and inner conflict of their character, drawing the audience in and keeping them captivated until the very end.\\n\\nJohnson\\'s writing is both poignant and thought-provoking, weaving together themes of regret, forgiveness, and redemption in a way that feels raw and honest. The dialogue is sharp and impactful, revealing the intricacies of the characters\\' relationships and shedding light on the darkness that lies beneath the surface.\\n\\nAs the sun sets on the beach house and the tragic events of the night unfold, the audience is left on the edge of their seats, feeling the weight of the characters\\' choices and the ripple effects of their actions. \"Tragedy at Sunset on the Beach\" is a haunting and unforgettable play that will leave you contemplating the power of love, betrayal, and the enduring resilience of the human spirit.'"
            ],
            "application/vnd.google.colaboratory.intrinsic+json": {
              "type": "string"
            }
          },
          "metadata": {},
          "execution_count": 2
        }
      ]
    },
    {
      "cell_type": "code",
      "source": [
        "# Invocando la sinopsis y luego la review\n",
        "synopsis = synopsis_prompt | llm | StrOutputParser()\n",
        "user_title = input(\"Please enter the title of the play: \")\n",
        "# capturamos output de synopsis e imprimimos\n",
        "synopsis_output = synopsis.invoke({\"title\": {user_title}})\n",
        "print(\"Synopsis:\", synopsis_output)\n",
        "\n",
        "# Usamos la sinopsis para generar review\n",
        "review = review_prompt | llm | StrOutputParser()\n",
        "review_output = review.invoke({\"synopsis\": synopsis_output})\n",
        "print(review_output)"
      ],
      "metadata": {
        "colab": {
          "base_uri": "https://localhost:8080/"
        },
        "id": "Exvg2LzLi_4p",
        "outputId": "defa60ef-82c7-4060-8102-0a41e70f85c5"
      },
      "id": "Exvg2LzLi_4p",
      "execution_count": 3,
      "outputs": [
        {
          "output_type": "stream",
          "name": "stdout",
          "text": [
            "Please enter the title of the play: Drama at the theater\n",
            "Synopsis: In \"Drama at the Theater,\" the audience is taken behind the scenes of a struggling community theater as they prepare for their latest production. As tensions run high among the cast and crew, personal conflicts and professional rivalries threaten to overshadow the play itself. With egos clashing and secrets being revealed, the theater becomes a stage for drama both on and offstage. As opening night approaches, the question becomes whether the show will go on, or if the chaos behind the scenes will prove too much to overcome. \"Drama at the Theater\" is a witty and insightful exploration of the passion and politics that come with putting on a show.\n",
            "Review Title: \"A Delightful Peek Behind the Curtain\"\n",
            "\n",
            "\"Drama at the Theater\" offers audiences a captivating and entertaining look at the inner workings of a struggling community theater. Playwrights, directors, actors, and crew members alike will find plenty to relate to in this witty and insightful exploration of the chaos that often ensues behind the scenes.\n",
            "\n",
            "The talented cast brings to life the personal conflicts and professional rivalries that threaten to overshadow the production at hand. As egos clash and secrets are revealed, the tension mounts, keeping the audience on the edge of their seats.\n",
            "\n",
            "Director John Smith has done a commendable job of balancing the humor and drama in this production, allowing the audience to both laugh and empathize with the characters as they navigate the challenges of putting on a show. The set design and costumes are also top-notch, transporting viewers into the world of the theater with ease.\n",
            "\n",
            "While the play may not offer any groundbreaking revelations about the theater world, it does provide an entertaining and engaging look at the passion and politics that come with the territory. \"Drama at the Theater\" is a delightful peek behind the curtain that will leave theatergoers with a newfound appreciation for the hard work and dedication that goes into every production.\n"
          ]
        }
      ]
    }
  ],
  "metadata": {
    "kernelspec": {
      "display_name": "Python 3 (ipykernel)",
      "language": "python",
      "name": "python3"
    },
    "language_info": {
      "codemirror_mode": {
        "name": "ipython",
        "version": 3
      },
      "file_extension": ".py",
      "mimetype": "text/x-python",
      "name": "python",
      "nbconvert_exporter": "python",
      "pygments_lexer": "ipython3",
      "version": "3.11.5"
    },
    "colab": {
      "provenance": []
    }
  },
  "nbformat": 4,
  "nbformat_minor": 5
}