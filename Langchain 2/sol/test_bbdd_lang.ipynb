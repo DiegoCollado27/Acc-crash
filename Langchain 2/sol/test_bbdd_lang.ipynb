{
 "cells": [
  {
   "cell_type": "code",
   "execution_count": 5,
   "metadata": {},
   "outputs": [],
   "source": [
    "import os\n",
    "from dotenv import load_dotenv\n",
    "\n",
    "from langchain_community.document_loaders import CSVLoader\n",
    "from langchain_openai import OpenAIEmbeddings\n",
    "from langchain_community.vectorstores import Chroma\n",
    "import openai\n",
    "import numpy as np\n",
    "\n",
    "openai.api_key = os.getenv(\"OPENAI_API_KEY\")\n",
    "\n",
    "\n",
    "# Cargar variables de entorno\n",
    "load_dotenv()\n",
    "\n",
    "# Ubicación del archivo de la base de datos\n",
    "\n",
    "loader = CSVLoader(file_path='../../data/train.csv')\n",
    "questions = loader.load()\n",
    "database_file = 'data/chroma.sqlite3'\n",
    "\n",
    "if os.path.exists(database_file):\n",
    "\n",
    "    db = Chroma(persist_directory='../data/', embedding_function=OpenAIEmbeddings(\n",
    "        api_key=os.getenv(\"OPENAI_API_KEY\")), collection_name='movies_chroma.db')\n",
    "    db.get()\n",
    "else:\n",
    "    # Crear la base de datos desde documentos si no existe\n",
    "    db = Chroma.from_documents(questions, OpenAIEmbeddings(api_key=os.getenv(\n",
    "        \"OPENAI_API_KEY\")), persist_directory='../data/', collection_name='movies_chroma.db')\n",
    "    # Guardar la base de datos\n",
    "    db.persist()\n"
   ]
  },
  {
   "cell_type": "code",
   "execution_count": 18,
   "metadata": {},
   "outputs": [
    {
     "name": "stdout",
     "output_type": "stream",
     "text": [
      "4\n",
      "page_content='Id: 39450987\\nTitle: eclipse failing to print the output becouse of some error\\nBody: Im starting leanining java but even why i did everything as the guy in tutorial it is saying that i ahve an error. \\r\\nthis is my code: \\r\\n\\r\\n  \\r\\n\\r\\n      class code{\\r\\n\\tpublic static void main(String args[])\\r\\n\\t{\\r\\n\\t\\tSystem.out.println(\"coding...\");\\r\\n\\t}\\r\\n      }\\r\\n\\r\\n    \\r\\n\\r\\n\\r\\nthe output is this : \\r\\n\\r\\n   \\r\\n\\r\\n    Exception in thread \"main\" java.lang.Error: Unresolved compilation problem: \\r\\n\\r\\n\\tat code.code.main(code.java:2)\\r\\n\\r\\nHope u ll help me sort this out **thanks**.\\nTags: <java><eclipse>\\nCreationDate: 2016-09-12 13:03:58\\nY: LQ_EDIT' metadata={'row': 10447, 'source': '../../data/train.csv'}\n",
      "page_content='Id: 39450987\\nTitle: eclipse failing to print the output becouse of some error\\nBody: Im starting leanining java but even why i did everything as the guy in tutorial it is saying that i ahve an error. \\r\\nthis is my code: \\r\\n\\r\\n  \\r\\n\\r\\n      class code{\\r\\n\\tpublic static void main(String args[])\\r\\n\\t{\\r\\n\\t\\tSystem.out.println(\"coding...\");\\r\\n\\t}\\r\\n      }\\r\\n\\r\\n    \\r\\n\\r\\n\\r\\nthe output is this : \\r\\n\\r\\n   \\r\\n\\r\\n    Exception in thread \"main\" java.lang.Error: Unresolved compilation problem: \\r\\n\\r\\n\\tat code.code.main(code.java:2)\\r\\n\\r\\nHope u ll help me sort this out **thanks**.\\nTags: <java><eclipse>\\nCreationDate: 2016-09-12 13:03:58\\nY: LQ_EDIT' metadata={'row': 10447, 'source': '../../data/train.csv'}\n",
      "page_content='Id: 58168359\\nTitle: how to fix the error <identifier> expected?\\nBody: a code returns error <identifier> expected i dont\\'t know why this error is occuring. I\\'m new to programming someone please help.!!!!!\\r\\n\\r\\npackage com.company;\\r\\n\\r\\nimport java.util.Scanner;\\r\\n\\r\\nimport java.util.Scanner;\\r\\npublic class Main {\\r\\n\\r\\n    public static void main(String[] args) {\\r\\n\\r\\n\\r\\n\\r\\n\\r\\n\\r\\n\\r\\n                intro();\\r\\n                time();\\r\\n\\r\\n\\r\\n            }\\r\\n            public static void intro()\\r\\n            {\\r\\n\\r\\n                System.out.println(\"Welcome\");\\r\\n                System.out.println(\"What is your name\");\\r\\n                Scanner input=new Scanner(System.in);\\r\\n\\r\\n                String name=input.nextLine();\\r\\n                System.out.println(\"Nice to meet you,\"+name+\" where are you travelling to?\");\\r\\n                String dest=input.nextLine();\\r\\n                System.out.println(\"Great!\"+dest+\" sounds like a great trip\");\\r\\n            }\\r\\n\\r\\n  public static void time()\\r\\n\\r\\n    {\\r\\n        Scanner input=new Scanner(System.in);\\r\\n\\r\\n        int hours,minutes;\\r\\n        float perd,perdc,change;\\r\\n\\r\\n        System.out.println(\"How many days are you going to spend travelling?\");\\r\\n\\r\\n        int days=input.int();\\r\\n\\r\\n        hours=days*24;\\r\\n        minutes=hours*60;\\r\\n\\r\\n        System.out.println(\"How much money in USD are you going to spend?\");\\r\\n\\r\\n        Double money=input.double();\\r\\n        perd=(money/days);\\r\\n\\r\\n        System.out.println(\"What is the three letter currency symbol of your destination?\");\\r\\n\\r\\n        String curr=input.nextLine();\\r\\n\\r\\n        System.out.println(\"How many\"+curr+ \"are there in 1USD?\");\\r\\n\\r\\n        Double ex=input.double();\\r\\n        change=money*ex;\\r\\n        perdc=perd*ex;\\r\\n\\r\\n        System.out.println(\"If you are travelling for\"+days+\"that is the same as\"+hours+\"or\"+minutes+\"minutes\");\\r\\n        System.out.println(\"If you are going to spend\"+money+\"$USD that means per day you can spend upto $\"+perd+\"USD\");\\r\\n        System.out.println(\"Your total budget in\"+ex+\"is\"+change+ex+\",which per day is  \"+perdc+curr);\\r\\n\\r\\n\\r\\n\\r\\n\\r\\n    }\\r\\n\\r\\n\\r\\n        }\\r\\n\\r\\n\\r\\n\\r\\na code returns error <identifier> expected i dont\\'t know why this error is occuring. I\\'m new to programming someone please help.!!!!!\\r\\n\\r\\n\\r\\n\\r\\n\\r\\nreports <identifier> expected\\nTags: <java><identifier>\\nCreationDate: 2019-09-30 12:53:59\\nY: LQ_EDIT' metadata={'row': 42733, 'source': '../../data/train.csv'}\n",
      "page_content='Id: 58168359\\nTitle: how to fix the error <identifier> expected?\\nBody: a code returns error <identifier> expected i dont\\'t know why this error is occuring. I\\'m new to programming someone please help.!!!!!\\r\\n\\r\\npackage com.company;\\r\\n\\r\\nimport java.util.Scanner;\\r\\n\\r\\nimport java.util.Scanner;\\r\\npublic class Main {\\r\\n\\r\\n    public static void main(String[] args) {\\r\\n\\r\\n\\r\\n\\r\\n\\r\\n\\r\\n\\r\\n                intro();\\r\\n                time();\\r\\n\\r\\n\\r\\n            }\\r\\n            public static void intro()\\r\\n            {\\r\\n\\r\\n                System.out.println(\"Welcome\");\\r\\n                System.out.println(\"What is your name\");\\r\\n                Scanner input=new Scanner(System.in);\\r\\n\\r\\n                String name=input.nextLine();\\r\\n                System.out.println(\"Nice to meet you,\"+name+\" where are you travelling to?\");\\r\\n                String dest=input.nextLine();\\r\\n                System.out.println(\"Great!\"+dest+\" sounds like a great trip\");\\r\\n            }\\r\\n\\r\\n  public static void time()\\r\\n\\r\\n    {\\r\\n        Scanner input=new Scanner(System.in);\\r\\n\\r\\n        int hours,minutes;\\r\\n        float perd,perdc,change;\\r\\n\\r\\n        System.out.println(\"How many days are you going to spend travelling?\");\\r\\n\\r\\n        int days=input.int();\\r\\n\\r\\n        hours=days*24;\\r\\n        minutes=hours*60;\\r\\n\\r\\n        System.out.println(\"How much money in USD are you going to spend?\");\\r\\n\\r\\n        Double money=input.double();\\r\\n        perd=(money/days);\\r\\n\\r\\n        System.out.println(\"What is the three letter currency symbol of your destination?\");\\r\\n\\r\\n        String curr=input.nextLine();\\r\\n\\r\\n        System.out.println(\"How many\"+curr+ \"are there in 1USD?\");\\r\\n\\r\\n        Double ex=input.double();\\r\\n        change=money*ex;\\r\\n        perdc=perd*ex;\\r\\n\\r\\n        System.out.println(\"If you are travelling for\"+days+\"that is the same as\"+hours+\"or\"+minutes+\"minutes\");\\r\\n        System.out.println(\"If you are going to spend\"+money+\"$USD that means per day you can spend upto $\"+perd+\"USD\");\\r\\n        System.out.println(\"Your total budget in\"+ex+\"is\"+change+ex+\",which per day is  \"+perdc+curr);\\r\\n\\r\\n\\r\\n\\r\\n\\r\\n    }\\r\\n\\r\\n\\r\\n        }\\r\\n\\r\\n\\r\\n\\r\\na code returns error <identifier> expected i dont\\'t know why this error is occuring. I\\'m new to programming someone please help.!!!!!\\r\\n\\r\\n\\r\\n\\r\\n\\r\\nreports <identifier> expected\\nTags: <java><identifier>\\nCreationDate: 2019-09-30 12:53:59\\nY: LQ_EDIT' metadata={'row': 42733, 'source': '../../data/train.csv'}\n",
      "page_content='Id: 39450987\\nTitle: eclipse failing to print the output becouse of some error\\nBody: Im starting leanining java but even why i did everything as the guy in tutorial it is saying that i ahve an error. \\r\\nthis is my code: \\r\\n\\r\\n  \\r\\n\\r\\n      class code{\\r\\n\\tpublic static void main(String args[])\\r\\n\\t{\\r\\n\\t\\tSystem.out.println(\"coding...\");\\r\\n\\t}\\r\\n      }\\r\\n\\r\\n    \\r\\n\\r\\n\\r\\nthe output is this : \\r\\n\\r\\n   \\r\\n\\r\\n    Exception in thread \"main\" java.lang.Error: Unresolved compilation problem: \\r\\n\\r\\n\\tat code.code.main(code.java:2)\\r\\n\\r\\nHope u ll help me sort this out **thanks**.\\nTags: <java><eclipse>\\nCreationDate: 2016-09-12 13:03:58\\nY: LQ_EDIT' metadata={'row': 10447, 'source': '../../data/train.csv'}\n"
     ]
    }
   ],
   "source": [
    "# query it\n",
    "query = \"i have a problem with my java code, can you help me?\"\n",
    "docs = db.similarity_search(query)\n",
    "print(len(docs))\n",
    "#print elements in the list\n",
    "for doc in docs:\n",
    "    print(doc)\n",
    "\n",
    "# print results only title \n",
    "print(docs[1])\n"
   ]
  },
  {
   "cell_type": "code",
   "execution_count": 23,
   "metadata": {},
   "outputs": [],
   "source": [
    "# create chroma object and upsert documents formed in json \n",
    "import pandas as pd\n",
    "import os\n",
    "import dotenv\n",
    "load_dotenv()\n",
    "secret_string= os.getenv('OPENAI_TOKEN')\n",
    "\n",
    "# Configurar el motor de OpenAI\n",
    "embeddings = OpenAIEmbeddings(api_key=secret_string, model=\"text-embedding-3-large\")\n",
    "\n",
    "def get_embedding(text):\n",
    "    query_result = embeddings.embed_query(text)\n",
    "    return query_result\n",
    "\n",
    "db2 = Chroma(persist_directory='../data/')\n",
    "\n",
    "df = pd.read_csv('../../data/train.csv')\n",
    "df = df[:1000]\n",
    "docs = []\n",
    "\n",
    "for index, row in df.iterrows():\n",
    "    doc = {\n",
    "        'id': index,\n",
    "        'title': row['Title'],\n",
    "        'body': row['Body'],\n",
    "    }\n",
    "    docs.append(doc)\n",
    "\n",
    "\n",
    "\n"
   ]
  },
  {
   "cell_type": "code",
   "execution_count": null,
   "metadata": {},
   "outputs": [],
   "source": [
    "db2.upsert_documents(docs, embeddings)\n",
    "db2.persist()\n",
    "print(\"Done\")"
   ]
  },
  {
   "cell_type": "code",
   "execution_count": null,
   "metadata": {},
   "outputs": [],
   "source": [
    "import langchain\n",
    "from langchain_openai import OpenAIEmbeddings\n",
    "import json\n",
    "import os\n",
    "\n",
    "# Obtener las credenciales de la base de datos y de OpenAI\n",
    "load_dotenv()\n",
    "token = os.getenv('DATASTAX_TOKEN')\n",
    "url_datastax = os.getenv('DATASTAX_URL')\n",
    "secret_string= os.getenv('OPENAI_TOKEN')\n",
    "\n",
    "# Configurar el motor de OpenAI\n",
    "embeddings = OpenAIEmbeddings(api_key=secret_string, model=\"text-embedding-3-large\")\n",
    "\n",
    "def get_embedding(text):\n",
    "    query_result = embeddings.embed_query(text)\n",
    "    return query_result\n",
    "\n",
    "#create embeddings for each column of my csv\n",
    "import pandas as pd\n",
    "df = pd.read_csv('../../data/train.csv')\n",
    "\n",
    "# Create a new column with the embeddings for title and another for body use my function  get_embedding\n",
    "df['title_embedding'] = df['Title'].apply(lambda x: get_embedding(x))\n",
    "df['body_embedding'] = df['Body'].apply(lambda x: get_embedding(x))\n",
    "\n",
    "# Save the new dataframe with the embeddings\n",
    "df.to_csv('../../data/train_embeddings.csv', index=False)\n",
    "\n",
    "\n"
   ]
  }
 ],
 "metadata": {
  "kernelspec": {
   "display_name": "devenv",
   "language": "python",
   "name": "python3"
  },
  "language_info": {
   "codemirror_mode": {
    "name": "ipython",
    "version": 3
   },
   "file_extension": ".py",
   "mimetype": "text/x-python",
   "name": "python",
   "nbconvert_exporter": "python",
   "pygments_lexer": "ipython3",
   "version": "3.10.14"
  }
 },
 "nbformat": 4,
 "nbformat_minor": 2
}
