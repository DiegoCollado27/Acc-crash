{
 "cells": [
  {
   "cell_type": "code",
   "execution_count": null,
   "metadata": {},
   "outputs": [],
   "source": [
    "from transformers import pipeline\n",
    "from fastapi import FastAPI\n",
    "from fastapi.responses import RedirectResponse\n",
    "from langserve import add_routes\n",
    "from dotenv import load_dotenv\n",
    "from pydantic import BaseModel\n",
    "\n",
    "\n",
    "load_dotenv()\n",
    "app = FastAPI()\n",
    "\n",
    "# Use a pipeline as a high-level helper\n",
    "\n",
    "pipe = pipeline(\"text-classification\",\n",
    "                model=\"sinensia/distilbert-finetuned-imdb\")\n",
    "\n",
    "\n",
    "class TextRequest(BaseModel):\n",
    "    text: str\n",
    "    \n",
    "@app.get(\"/\")\n",
    "async def redirect_root_to_docs():\n",
    "    return RedirectResponse(\"/docs\")\n",
    "\n",
    "\n",
    "@app.post(\"/predict\")\n",
    "def predict_sentiment(request: TextRequest):\n",
    "    result = pipe(request.text)\n",
    "    return {\"label\": result[0]['label'], \"score\": result[0]['score']}\n",
    "\n",
    "# Edit this to add the chain you want to add\n",
    "add_routes(app, NotImplemented)\n",
    "\n",
    "if __name__ == \"__main__\":\n",
    "    import uvicorn\n",
    "\n",
    "    uvicorn.run(app, host=\"0.0.0.0\", port=8000)"
   ]
  }
 ],
 "metadata": {
  "language_info": {
   "name": "python"
  }
 },
 "nbformat": 4,
 "nbformat_minor": 2
}
