{
  "nbformat": 4,
  "nbformat_minor": 0,
  "metadata": {
    "colab": {
      "private_outputs": true,
      "provenance": []
    },
    "kernelspec": {
      "name": "python3",
      "display_name": "Python 3"
    },
    "language_info": {
      "name": "python"
    }
  },
  "cells": [
    {
      "cell_type": "code",
      "execution_count": null,
      "metadata": {
        "id": "Ul-bbvz_rMnj"
      },
      "outputs": [],
      "source": [
        "#!pip install missingno\n",
        "\n",
        "import pandas as pd\n",
        "import matplotlib.pyplot as plt\n",
        "import missingno as msno\n",
        "\n",
        "df = pd.read_csv('https://drive.google.com/uc?export=download&id=10JJmUmZaDE8k8AQs2gKbPZGPmrIH6GQG')\n",
        "\n",
        "print(df.head())\n",
        "\n",
        "print('------')\n",
        "print(df.columns)\n",
        "print('#######')\n",
        "\n"
      ]
    },
    {
      "cell_type": "code",
      "source": [
        "# Hay algunas columnas con espacios en blanco antres y después\n",
        "# Esto nos puede dificultar el acceso, vamos a limpiar\n",
        "df.columns = [column.strip() for column in df.columns]\n",
        "# Ahora debería salir correctamente\n",
        "print(df.columns)"
      ],
      "metadata": {
        "id": "3uiYtUBuO1qo"
      },
      "execution_count": null,
      "outputs": []
    },
    {
      "cell_type": "code",
      "source": [
        "\n",
        "# Identificar valores NaN\n",
        "missing_values = df.isna().sum()\n",
        "print(missing_values)\n",
        "\n",
        "missing_gni = missing_values['GNI - 2021']\n",
        "\n",
        "for index, item in missing_values.items():\n",
        "    if item > 0:\n",
        "        print(f'Tenemos {item} valores faltantes en {index}')\n",
        "\n",
        "\n",
        "\n",
        "\n"
      ],
      "metadata": {
        "id": "C0xACcf2NZFc"
      },
      "execution_count": null,
      "outputs": []
    },
    {
      "cell_type": "code",
      "source": [
        "\n",
        "# 2. Revisar tipos de datos\n",
        "\n",
        "data_types = df.dtypes\n",
        "print(data_types)\n"
      ],
      "metadata": {
        "id": "HMmSy3gYNjxR"
      },
      "execution_count": null,
      "outputs": []
    },
    {
      "cell_type": "code",
      "source": [
        "# 3. Buscar inconsistencias en los datos\n",
        "\n",
        "# Para valores numéricos, podemos revisar estadísticas básicas\n",
        "\n",
        "numerical_stats = df.describe()\n",
        "print(numerical_stats)"
      ],
      "metadata": {
        "id": "aTHveJ5UNmUH"
      },
      "execution_count": null,
      "outputs": []
    },
    {
      "cell_type": "code",
      "source": [
        "# 4. Validar formatos de datos\n",
        "\n",
        "# Especialmente para la columna 'Population - 2023', que podría tener caracteres no numéricos\n",
        "\n",
        "# Intentaremos convertir esta columna a numérico y ver si hay errores\n",
        "\n",
        "try:\n",
        "\n",
        "    df['Population - 2023'] = pd.to_numeric(df['Population - 2023'], errors='coerce')\n",
        "\n",
        "    population_conversion_issues = df['Population - 2023'].isna().sum()\n",
        "\n",
        "except Exception as e:\n",
        "\n",
        "    population_conversion_issues = str(e)\n",
        "\n",
        "print(missing_values, data_types, numerical_stats, population_conversion_issues)"
      ],
      "metadata": {
        "id": "brnQ3fLRNpiY"
      },
      "execution_count": null,
      "outputs": []
    },
    {
      "cell_type": "code",
      "source": [
        "msno.matrix(df)\n",
        "plt.show()"
      ],
      "metadata": {
        "id": "nqEca-064tBX"
      },
      "execution_count": null,
      "outputs": []
    },
    {
      "cell_type": "code",
      "source": [
        "msno.heatmap(df)\n",
        "plt.show()"
      ],
      "metadata": {
        "id": "ZZgI46F74pFg"
      },
      "execution_count": null,
      "outputs": []
    },
    {
      "cell_type": "code",
      "source": [
        "msno.bar(df)\n",
        "plt.show()"
      ],
      "metadata": {
        "id": "U9JguPMx4rEY"
      },
      "execution_count": null,
      "outputs": []
    },
    {
      "cell_type": "code",
      "source": [
        "msno.dendrogram(df)\n",
        "plt.show()"
      ],
      "metadata": {
        "id": "vKek9R5d4yAp"
      },
      "execution_count": null,
      "outputs": []
    }
  ]
}